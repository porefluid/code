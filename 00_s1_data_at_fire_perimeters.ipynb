{
 "cells": [
  {
   "cell_type": "code",
   "execution_count": 68,
   "id": "bba01cba-4256-4a45-ac0c-e53b12682ede",
   "metadata": {},
   "outputs": [],
   "source": [
    "import os\n",
    "import ee\n",
    "import warnings\n",
    "import asf_search\n",
    "import numpy as np\n",
    "import pandas as pd\n",
    "from tqdm import tqdm\n",
    "import geopandas as gpd\n",
    "from hyp3_sdk import HyP3\n",
    "import matplotlib.pyplot as plt\n",
    "from shapely.geometry import box\n",
    "from shapely.geometry import Polygon\n",
    "warnings.simplefilter(action='ignore')"
   ]
  },
  {
   "cell_type": "code",
   "execution_count": 89,
   "id": "e397f15c-2c5d-45c1-bff2-862493420901",
   "metadata": {},
   "outputs": [],
   "source": [
    "# Get the current working directory\n",
    "current_directory = os.getcwd()\n",
    "\n",
    "# Get the parent directory (one level up)\n",
    "parent_directory = os.path.dirname(current_directory)\n",
    "\n",
    "data_dir = os.path.join(parent_directory, 'data')\n",
    "fig_dir = os.path.join(parent_directory, 'figures')"
   ]
  },
  {
   "cell_type": "code",
   "execution_count": 3,
   "id": "3ba5405d-790c-4319-a9ad-1dcba43215e0",
   "metadata": {},
   "outputs": [],
   "source": [
    "## fire perimeters\n",
    "\n",
    "fnames = os.listdir(os.path.join(data_dir, 'bldg_destruction_pts_sample_fires'))\n",
    "\n",
    "shps = [f for f in fnames if '.shp' in f and 'xml' not in f]\n",
    "shp_paths = [os.path.join(data_dir, 'bldg_destruction_pts_sample_fires', f) for f in shps]\n",
    "\n",
    "fire_gdfs = gpd.GeoDataFrame(pd.concat([gpd.read_file(f) for f in shp_paths]))"
   ]
  },
  {
   "cell_type": "code",
   "execution_count": 4,
   "id": "6a98cd2d-262b-43b7-a363-e6fd73bbb3bd",
   "metadata": {},
   "outputs": [],
   "source": [
    "fire_gdfs = fire_gdfs.to_crs('EPSG:4326')"
   ]
  },
  {
   "cell_type": "code",
   "execution_count": 5,
   "id": "a979c8d8-671b-42ab-916f-b2de195260f7",
   "metadata": {},
   "outputs": [
    {
     "name": "stderr",
     "output_type": "stream",
     "text": [
      "54840it [00:22, 2384.54it/s]\n"
     ]
    }
   ],
   "source": [
    "dates = []\n",
    "for i, f in tqdm(fire_gdfs.iterrows()):\n",
    "    if f['fire_name'] == 'MARSHALL':\n",
    "        dates.append(pd.to_datetime('2021-12-31'))\n",
    "    else:\n",
    "        date_string = f\"{f['fire_year']}-{f['fire_month']:02d}-{f['fire_day']:02d}\"\n",
    "        dates.append(pd.to_datetime(date_string))\n",
    "    # except:\n",
    "    #     print('bad dates')\n",
    "    #     dates.append(np.nan)\n",
    "    "
   ]
  },
  {
   "cell_type": "code",
   "execution_count": 6,
   "id": "3fb912fb-1501-4747-b45a-7be3f28c6648",
   "metadata": {},
   "outputs": [],
   "source": [
    "fire_gdfs['dt'] = dates"
   ]
  },
  {
   "cell_type": "code",
   "execution_count": 7,
   "id": "e1ec022a-0de3-4da7-9ad9-b86d98c3f16d",
   "metadata": {},
   "outputs": [],
   "source": [
    "fire_names = fire_gdfs['fire_name'].drop_duplicates()"
   ]
  },
  {
   "cell_type": "code",
   "execution_count": 8,
   "id": "f4fc48dc-6d64-41a8-83c6-8588bad6f146",
   "metadata": {},
   "outputs": [],
   "source": [
    "fire_dates = fire_gdfs.groupby('fire_name').first()['dt']"
   ]
  },
  {
   "cell_type": "code",
   "execution_count": 9,
   "id": "160b0dbc-57d6-4d1c-9dc8-6284248e2e29",
   "metadata": {},
   "outputs": [],
   "source": [
    "## union points for each fire\n",
    "\n",
    "bounding_boxes = []\n",
    "\n",
    "for n in fire_names:\n",
    "    pts = fire_gdfs[fire_gdfs['fire_name'] == n]\n",
    "    minx, miny, maxx, maxy = pts.dissolve().bounds.values[0]\n",
    "    geom_box = box(minx, miny, maxx, maxy)\n",
    "    bounding_boxes.append(geom_box)"
   ]
  },
  {
   "cell_type": "code",
   "execution_count": 10,
   "id": "d9425c0f-b656-4922-801f-f1a679e8dcc0",
   "metadata": {},
   "outputs": [],
   "source": [
    "aoi_gdf = gpd.GeoDataFrame({'fire_name': fire_names.values, 'fire_date': fire_dates.values}, geometry = bounding_boxes)"
   ]
  },
  {
   "cell_type": "code",
   "execution_count": 56,
   "id": "04e0f722-80cb-4754-8aa4-08851d695510",
   "metadata": {},
   "outputs": [
    {
     "name": "stderr",
     "output_type": "stream",
     "text": [
      "6it [00:13,  2.24s/it]\n"
     ]
    }
   ],
   "source": [
    "intersecting_scene_ids = []\n",
    "intersecting_scene_bounds = []\n",
    "\n",
    "for i, f in tqdm(aoi_gdf.iterrows()):\n",
    "    before_fire = (f['fire_date'] - pd.Timedelta(days = 12)).strftime('%Y-%m-%d')\n",
    "    after_fire = (f['fire_date'] + pd.Timedelta(days = 12)).strftime('%Y-%m-%d')\n",
    "    wkt = f.geometry.wkt\n",
    "    search_results = asf_search.geo_search(start = before_fire, end = after_fire, \n",
    "                                           intersectsWith = wkt, platform=[asf_search.PLATFORM.SENTINEL1], \n",
    "                                           dataset = 'SENTINEL-1',\n",
    "                                          processingLevel = 'SLC')\n",
    "\n",
    "    fileIds = []\n",
    "    geometries = []\n",
    "    for r in search_results:\n",
    "        geojson = r.geojson()\n",
    "        coordinates = geojson['geometry']['coordinates'][0]\n",
    "    \n",
    "        # Create the Shapely Polygon from the coordinates\n",
    "        polygon = Polygon(coordinates)\n",
    "        geometries.append(polygon)\n",
    "        fileIds.append(r.properties['fileID'])\n",
    "        \n",
    "    intersecting_scene_ids.append(fileIds)\n",
    "    intersecting_scene_bounds.append(geometries)"
   ]
  },
  {
   "cell_type": "code",
   "execution_count": 57,
   "id": "03728dbf-bbc4-49b2-8c18-2f82625f9ebe",
   "metadata": {},
   "outputs": [],
   "source": [
    "aoi_gdf['s1_scene_ids'] = intersecting_scene_ids\n",
    "aoi_gdf['s1_scene_bounds'] = intersecting_scene_bounds\n"
   ]
  },
  {
   "cell_type": "code",
   "execution_count": null,
   "id": "d904b513-0ba0-4d65-a6f4-8db06e4891f7",
   "metadata": {},
   "outputs": [],
   "source": [
    "## for each fire, plot the bounding box, fire damage points, and S1 scene outlines and save to fig dir\n",
    "\n",
    "for i, f in aoi_gdf.iterrows():\n",
    "    fig, ax = plt.subplots(1, 1, figsize = (10, 10))\n",
    "\n",
    "    gpd.GeoSeries(f['s1_scene_bounds']).plot(ax = ax, facecolor = 'none', edgecolor = 'black')\n",
    "    \n",
    "    damage_points = fire_gdfs[fire_gdfs['fire_name'] == f['fire_name']]\n",
    "    damage_points.plot(ax = ax, color = 'red', markersize = 1)\n",
    "    ax.set_title(f\"{f['fire_name'], f['fire_date'].strftime('%Y-%m-%d')}\")\n",
    "    ax.legend(['Damaged buildings', 'Sentinel-1 Footprints'])\n",
    "    plt.savefig(os.path.join(fig_dir, f\"{f['fire_name']}.png\"), dpi = 300)\n",
    "    "
   ]
  },
  {
   "cell_type": "code",
   "execution_count": null,
   "id": "51f9d413-591d-44cc-b68e-3f49d427ad21",
   "metadata": {},
   "outputs": [],
   "source": []
  }
 ],
 "metadata": {
  "kernelspec": {
   "display_name": "Python 3 (ipykernel)",
   "language": "python",
   "name": "python3"
  },
  "language_info": {
   "codemirror_mode": {
    "name": "ipython",
    "version": 3
   },
   "file_extension": ".py",
   "mimetype": "text/x-python",
   "name": "python",
   "nbconvert_exporter": "python",
   "pygments_lexer": "ipython3",
   "version": "3.13.0"
  }
 },
 "nbformat": 4,
 "nbformat_minor": 5
}
