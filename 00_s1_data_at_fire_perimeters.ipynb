{
 "cells": [
  {
   "cell_type": "code",
   "execution_count": 17,
   "id": "bba01cba-4256-4a45-ac0c-e53b12682ede",
   "metadata": {},
   "outputs": [],
   "source": [
    "import os\n",
    "import ee\n",
    "import asf_search\n",
    "import pandas as pd\n",
    "import geopandas as gpd\n",
    "from hyp3_sdk import HyP3"
   ]
  },
  {
   "cell_type": "code",
   "execution_count": 14,
   "id": "e397f15c-2c5d-45c1-bff2-862493420901",
   "metadata": {},
   "outputs": [],
   "source": [
    "# Get the current working directory\n",
    "current_directory = os.getcwd()\n",
    "\n",
    "# Get the parent directory (one level up)\n",
    "parent_directory = os.path.dirname(current_directory)\n",
    "\n",
    "data_dir = os.path.join(parent_directory, 'data')"
   ]
  },
  {
   "cell_type": "code",
   "execution_count": 33,
   "id": "3ba5405d-790c-4319-a9ad-1dcba43215e0",
   "metadata": {},
   "outputs": [],
   "source": [
    "## fire perimeters\n",
    "\n",
    "fnames = os.listdir(os.path.join(data_dir, 'bldg_destruction_pts_sample_fires'))\n",
    "\n",
    "shps = [f for f in fnames if '.shp' in f and 'xml' not in f]\n",
    "shp_paths = [os.path.join(data_dir, 'bldg_destruction_pts_sample_fires', f) for f in shps]\n",
    "\n",
    "fire_gdfs = gpd.GeoDataFrame(pd.concat([gpd.read_file(f) for f in shp_paths]))"
   ]
  },
  {
   "cell_type": "code",
   "execution_count": 36,
   "id": "a979c8d8-671b-42ab-916f-b2de195260f7",
   "metadata": {},
   "outputs": [
    {
     "data": {
      "text/plain": [
       "<Projected CRS: PROJCS[\"Albers_Conical_Equal_Area\",GEOGCS[\"WGS 84\" ...>\n",
       "Name: Albers_Conical_Equal_Area\n",
       "Axis Info [cartesian]:\n",
       "- [east]: Easting (metre)\n",
       "- [north]: Northing (metre)\n",
       "Area of Use:\n",
       "- undefined\n",
       "Coordinate Operation:\n",
       "- name: unnamed\n",
       "- method: Albers Equal Area\n",
       "Datum: World Geodetic System 1984\n",
       "- Ellipsoid: WGS 84\n",
       "- Prime Meridian: Greenwich"
      ]
     },
     "execution_count": 36,
     "metadata": {},
     "output_type": "execute_result"
    }
   ],
   "source": [
    "fire_gdfs.crs"
   ]
  },
  {
   "cell_type": "code",
   "execution_count": null,
   "id": "e1ec022a-0de3-4da7-9ad9-b86d98c3f16d",
   "metadata": {},
   "outputs": [],
   "source": []
  }
 ],
 "metadata": {
  "kernelspec": {
   "display_name": "Python 3 (ipykernel)",
   "language": "python",
   "name": "python3"
  },
  "language_info": {
   "codemirror_mode": {
    "name": "ipython",
    "version": 3
   },
   "file_extension": ".py",
   "mimetype": "text/x-python",
   "name": "python",
   "nbconvert_exporter": "python",
   "pygments_lexer": "ipython3",
   "version": "3.13.0"
  }
 },
 "nbformat": 4,
 "nbformat_minor": 5
}
